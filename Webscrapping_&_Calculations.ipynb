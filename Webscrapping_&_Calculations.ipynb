{
 "cells": [
  {
   "cell_type": "code",
   "execution_count": 1,
   "id": "e0be9b8f",
   "metadata": {},
   "outputs": [],
   "source": [
    "#Importing Libraries\n",
    "import requests\n",
    "import pandas as pd\n",
    "import csv\n",
    "import shutil"
   ]
  },
  {
   "cell_type": "markdown",
   "id": "9022f9e1",
   "metadata": {},
   "source": [
    "#### Retention Rate"
   ]
  },
  {
   "cell_type": "code",
   "execution_count": 2,
   "id": "264c8ca7",
   "metadata": {},
   "outputs": [],
   "source": [
    "# Extract retention rate wrt US from https://currencyconvert.online/exchange-rates/usd/allcurrencies\n",
    "def extracting_exchange_rate():\n",
    "    url='https://currencyconvert.online/exchange-rates/usd/allcurrencies'\n",
    "    response= requests.get(url)\n",
    "    #print(response)\n",
    "    #print(response.status_code)\n",
    "    t= response.text\n",
    "    v=t\n",
    "    rate=[]\n",
    "    while'text-left' in v:\n",
    "        i= v.index('text-left\\\"><span')\n",
    "        rate.append(v[i:i+50].split(\">\")[2].split(\"<\")[0])\n",
    "        v=v[i+1:]\n",
    "    v=t\n",
    "    currency=[]\n",
    "    while'd-inline d-md-none' in v:\n",
    "        i= v.index('d-inline d-md-none')\n",
    "        currency.append(v[i+20:i+23])\n",
    "        v=v[i+1:]\n",
    "    exchange_rate= pd.DataFrame({'Currency': currency, \"Exchange_Rate\": rate})\n",
    "    exchange_rate=exchange_rate.append([{'Currency':'USD','Exchange_Rate':1}])\n",
    "    exchange_rate['Exchange_Rate']=pd.to_numeric(exchange_rate['Exchange_Rate'])\n",
    "    return exchange_rate"
   ]
  },
  {
   "cell_type": "code",
   "execution_count": 8,
   "id": "cadbe0bf",
   "metadata": {},
   "outputs": [],
   "source": [
    "extracting_exchange_rate().to_csv('Exchange_Rate.csv')"
   ]
  },
  {
   "cell_type": "code",
   "execution_count": 3,
   "id": "de288049",
   "metadata": {},
   "outputs": [],
   "source": [
    "# Find out convertion rate of given countries\n",
    "def currency_converter_rate(exchange_rate, currency_to,  currency_from='INR'):\n",
    "    er= exchange_rate.set_index('Currency').Exchange_Rate.to_dict()\n",
    "    return  er[currency_from]/er[currency_to]\n",
    "    "
   ]
  },
  {
   "cell_type": "code",
   "execution_count": 4,
   "id": "dabf31d6",
   "metadata": {},
   "outputs": [],
   "source": [
    "# Find out the converted value \n",
    "def currency_converter(currency_to,  currency_from='INR', amount=1):\n",
    "    exchange_rate= extracting_exchange_rate()\n",
    "    rate= currency_converter_rate(exchange_rate, currency_to,  currency_from)\n",
    "    return amount * rate"
   ]
  },
  {
   "cell_type": "code",
   "execution_count": 5,
   "id": "17316dac",
   "metadata": {},
   "outputs": [
    {
     "data": {
      "text/plain": [
       "79.327"
      ]
     },
     "execution_count": 5,
     "metadata": {},
     "output_type": "execute_result"
    }
   ],
   "source": [
    "currency_converter('USD','INR',1)"
   ]
  },
  {
   "cell_type": "markdown",
   "id": "75f1b62d",
   "metadata": {},
   "source": [
    "#### Purchase Power Parity"
   ]
  },
  {
   "cell_type": "code",
   "execution_count": 7,
   "id": "71536b56",
   "metadata": {},
   "outputs": [
    {
     "name": "stderr",
     "output_type": "stream",
     "text": [
      "C:\\Users\\roshn\\anaconda3\\lib\\site-packages\\urllib3\\connectionpool.py:1013: InsecureRequestWarning: Unverified HTTPS request is being made to host 'stats.oecd.org'. Adding certificate verification is strongly advised. See: https://urllib3.readthedocs.io/en/1.26.x/advanced-usage.html#ssl-warnings\n",
      "  warnings.warn(\n"
     ]
    },
    {
     "name": "stdout",
     "output_type": "stream",
     "text": [
      "Success\n"
     ]
    }
   ],
   "source": [
    "# Downloads the ppp.csv table from https://data.oecd.org/conversion/purchasing-power-parities-ppp.htm\n",
    "def download_PPP_chart():\n",
    "    url = 'https://stats.oecd.org/sdmx-json/data/DP_LIVE/.PPP.../OECD?contentType=csv&detail=code&separator=comma&csv-lang=en'\n",
    "    r = requests.get(url, verify=False,stream=True)\n",
    "    if r.status_code!=200:\n",
    "        print(\"Failure!!\")\n",
    "        exit()\n",
    "    else:\n",
    "        r.raw.decode_content = True\n",
    "        with open(\"PurchasePowerParity.csv\", 'wb') as f:\n",
    "            shutil.copyfileobj(r.raw, f)\n",
    "        print(\"Success\")\n",
    "\n",
    "#if __name__ == '__main__':\n",
    "download_PPP_chart()"
   ]
  },
  {
   "cell_type": "code",
   "execution_count": 10,
   "id": "f4467b00",
   "metadata": {},
   "outputs": [],
   "source": [
    "# Reads the csv and converts it into cross tab format\n",
    "def reading_ppp_file():\n",
    "    download_PPP_chart()\n",
    "    ppp= pd.read_csv('PurchasePowerParity.csv')\n",
    "    ppp=pd.crosstab(index = ppp.LOCATION, columns = ppp.TIME, values = ppp.Value, aggfunc = 'mean').reset_index()\n",
    "    return ppp"
   ]
  },
  {
   "cell_type": "code",
   "execution_count": 11,
   "id": "cad5c19a",
   "metadata": {},
   "outputs": [
    {
     "name": "stderr",
     "output_type": "stream",
     "text": [
      "C:\\Users\\roshn\\anaconda3\\lib\\site-packages\\urllib3\\connectionpool.py:1013: InsecureRequestWarning: Unverified HTTPS request is being made to host 'stats.oecd.org'. Adding certificate verification is strongly advised. See: https://urllib3.readthedocs.io/en/1.26.x/advanced-usage.html#ssl-warnings\n",
      "  warnings.warn(\n"
     ]
    },
    {
     "name": "stdout",
     "output_type": "stream",
     "text": [
      "Success\n"
     ]
    }
   ],
   "source": [
    "reading_ppp_file().to_csv('PPP_rate.csv')"
   ]
  },
  {
   "cell_type": "code",
   "execution_count": null,
   "id": "f2efd635",
   "metadata": {},
   "outputs": [],
   "source": [
    "# Finds the ppp convertion rate between 2 countries\n",
    "def ppp_convertion_rate(ppp, currency_to, currency_from='IND'):\n",
    "    ppp_dict= ppp.set_index('LOCATION')[ppp.columns[-1]].to_dict()\n",
    "    return ppp_dict[currency_to]/ppp_dict[currency_from]\n"
   ]
  },
  {
   "cell_type": "code",
   "execution_count": null,
   "id": "a7d3bed0",
   "metadata": {},
   "outputs": [],
   "source": [
    "# Find out the converted ppp value \n",
    "def ppp_converter(currency_to,  currency_from='IND', amount=1):\n",
    "    ppp= reading_ppp_file()\n",
    "    rate= ppp_convertion_rate(ppp, currency_to,  currency_from)\n",
    "    return amount * rate"
   ]
  },
  {
   "cell_type": "code",
   "execution_count": null,
   "id": "1bc100c3",
   "metadata": {},
   "outputs": [],
   "source": [
    "#ppp_converter( 'IND', 'USA', amount=1)"
   ]
  },
  {
   "cell_type": "code",
   "execution_count": null,
   "id": "63d3e17a",
   "metadata": {},
   "outputs": [],
   "source": []
  }
 ],
 "metadata": {
  "kernelspec": {
   "display_name": "Python 3 (ipykernel)",
   "language": "python",
   "name": "python3"
  },
  "language_info": {
   "codemirror_mode": {
    "name": "ipython",
    "version": 3
   },
   "file_extension": ".py",
   "mimetype": "text/x-python",
   "name": "python",
   "nbconvert_exporter": "python",
   "pygments_lexer": "ipython3",
   "version": "3.9.7"
  }
 },
 "nbformat": 4,
 "nbformat_minor": 5
}
