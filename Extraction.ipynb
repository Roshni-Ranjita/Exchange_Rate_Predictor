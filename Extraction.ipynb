{
 "cells": [
  {
   "cell_type": "code",
   "execution_count": 27,
   "id": "88cd1a8f",
   "metadata": {},
   "outputs": [],
   "source": [
    "import requests\n",
    "import pandas as pd\n",
    "import numpy as np"
   ]
  },
  {
   "cell_type": "code",
   "execution_count": 41,
   "id": "7e37eb78",
   "metadata": {},
   "outputs": [],
   "source": [
    "def inr_to_usd():\n",
    "    url='https://www.exchangerates.org.uk/INR-USD-exchange-rate-history.html'\n",
    "    response= requests.get(url)\n",
    "    print(response)\n",
    "    print(response.status_code)\n",
    "    t= response.text\n",
    "    v=t\n",
    "    rate=[]\n",
    "    while'1 INR = ' in v:\n",
    "        i= v.index('1 INR = ')\n",
    "        rate.append(v[i+8:i+16])\n",
    "        v=v[i+1:]\n",
    "    v=t\n",
    "    date=[]\n",
    "    while'2022</a></' in v:\n",
    "        i= v.index('2022</a></')\n",
    "        date.append(v[i-6:i+4])\n",
    "        v=v[i+1:]\n",
    "    exchange_rate= pd.DataFrame({'Date': date, \"Exchange_Rate\": rate})\n",
    "    exchange_rate.to_csv('ExchangeRateINRtoUSD.csv')\n",
    "    return('Executed')"
   ]
  },
  {
   "cell_type": "code",
   "execution_count": 42,
   "id": "fc54acf0",
   "metadata": {},
   "outputs": [
    {
     "name": "stdout",
     "output_type": "stream",
     "text": [
      "<Response [200]>\n",
      "200\n"
     ]
    },
    {
     "data": {
      "text/plain": [
       "'Executed'"
      ]
     },
     "execution_count": 42,
     "metadata": {},
     "output_type": "execute_result"
    }
   ],
   "source": [
    "inr_to_usd()"
   ]
  }
 ],
 "metadata": {
  "kernelspec": {
   "display_name": "Python 3 (ipykernel)",
   "language": "python",
   "name": "python3"
  },
  "language_info": {
   "codemirror_mode": {
    "name": "ipython",
    "version": 3
   },
   "file_extension": ".py",
   "mimetype": "text/x-python",
   "name": "python",
   "nbconvert_exporter": "python",
   "pygments_lexer": "ipython3",
   "version": "3.9.7"
  }
 },
 "nbformat": 4,
 "nbformat_minor": 5
}
